{
 "cells": [
  {
   "cell_type": "markdown",
   "metadata": {},
   "source": [
    "# <font color='cyan'>Collections</font>\n",
    "\n",
    "O modúlo <font color='brown'><i>collections</font> implementa estrutura de container de alta performance que são alternaitvas ás coleções Python tradicionais. "
   ]
  },
  {
   "cell_type": "code",
   "execution_count": 7,
   "metadata": {},
   "outputs": [],
   "source": [
    "from collections import Counter\n",
    "\n",
    "lista = [1, 1, 1, 1, 1, 1, 2, 2, 3, 3, 3, 3, 4, 6, 6, 7, 7, 7, 7, 8, 9]"
   ]
  },
  {
   "cell_type": "code",
   "execution_count": 44,
   "metadata": {},
   "outputs": [
    {
     "name": "stdout",
     "output_type": "stream",
     "text": [
      "Counter({1: 5, 3: 4, 7: 4, 2: 2, 6: 2, 4: 1, 8: 1, 9: 1})\n",
      "<class 'tuple'>\n"
     ]
    }
   ],
   "source": [
    "tupla = (1, 1, 1, 1, 1, 2, 2, 3, 3, 3, 3, 4, 6, 6, 7, 7, 7, 7, 8, 9)\n",
    "\n",
    "print(Counter(tupla))\n",
    "print(type(tupla))"
   ]
  },
  {
   "cell_type": "code",
   "execution_count": 45,
   "metadata": {},
   "outputs": [
    {
     "name": "stdout",
     "output_type": "stream",
     "text": [
      "<class 'collections.Counter'>\n",
      "[(1, 5), (3, 4), (7, 4), (2, 2), (6, 2), (4, 1), (8, 1), (9, 1)]\n"
     ]
    }
   ],
   "source": [
    "tupla = (Counter(tupla))\n",
    "print(type(tupla))\n",
    "print(tupla.most_common())"
   ]
  },
  {
   "cell_type": "code",
   "execution_count": null,
   "metadata": {},
   "outputs": [],
   "source": []
  },
  {
   "cell_type": "code",
   "execution_count": 11,
   "metadata": {},
   "outputs": [
    {
     "name": "stdout",
     "output_type": "stream",
     "text": [
      "<class 'collections.Counter'>\n",
      "Counter({1: 6, 3: 4, 7: 4, 2: 2, 6: 2, 4: 1, 8: 1, 9: 1})\n"
     ]
    }
   ],
   "source": [
    "contador = Counter(lista)\n",
    "print(type(contador))\n",
    "print(contador)"
   ]
  },
  {
   "cell_type": "code",
   "execution_count": 13,
   "metadata": {},
   "outputs": [
    {
     "data": {
      "text/plain": [
       "Counter({'V': 1, 'i': 3, 'n': 1, 'c': 1, 'u': 1, 's': 1})"
      ]
     },
     "execution_count": 13,
     "metadata": {},
     "output_type": "execute_result"
    }
   ],
   "source": [
    "nome = 'Vinicius'\n",
    "Counter(nome)"
   ]
  },
  {
   "cell_type": "code",
   "execution_count": 15,
   "metadata": {},
   "outputs": [],
   "source": [
    "texto = \"\"\" Eu te amo porque te amo.\n",
    "Não precisas ser amante,\n",
    "e nem sempre sabes sê-lo.\n",
    "Eu te amo porque te amo.\n",
    "Amor é estado de graça\n",
    "e com amor não se paga.\n",
    "\n",
    "Amor é dado de graça,\n",
    "é semeado no vento,\n",
    "na cachoeira, no eclipse.\n",
    "Amor foge a dicionários\n",
    "e a regulamentos vários.\n",
    "\n",
    "Eu te amo porque não amo\n",
    "bastante ou de mais a mim.\n",
    "Porque amor não se troca,\n",
    "não se conjuga nem se ama.\n",
    "Porque amor é amor a nada,\n",
    "feliz e forte em si mesmo.\n",
    "\n",
    "Amor é primo da morte,\n",
    "e da morte vencedor,\n",
    "por mais que o matem (e matam)\n",
    "a cada instante de amor.\"\"\""
   ]
  },
  {
   "cell_type": "code",
   "execution_count": 25,
   "metadata": {},
   "outputs": [],
   "source": [
    "contador = Counter(texto.lower().split())"
   ]
  },
  {
   "cell_type": "code",
   "execution_count": 27,
   "metadata": {},
   "outputs": [
    {
     "name": "stdout",
     "output_type": "stream",
     "text": [
      "dict_keys(['eu', 'te', 'amo', 'porque', 'amo.', 'não', 'precisas', 'ser', 'amante,', 'e', 'nem', 'sempre', 'sabes', 'sê-lo.', 'amor', 'é', 'estado', 'de', 'graça', 'com', 'se', 'paga.', 'dado', 'graça,', 'semeado', 'no', 'vento,', 'na', 'cachoeira,', 'eclipse.', 'foge', 'a', 'dicionários', 'regulamentos', 'vários.', 'bastante', 'ou', 'mais', 'mim.', 'troca,', 'conjuga', 'ama.', 'nada,', 'feliz', 'forte', 'em', 'si', 'mesmo.', 'primo', 'da', 'morte,', 'morte', 'vencedor,', 'por', 'que', 'o', 'matem', '(e', 'matam)', 'cada', 'instante', 'amor.'])\n"
     ]
    }
   ],
   "source": [
    "print(contador.keys())"
   ]
  },
  {
   "cell_type": "code",
   "execution_count": 29,
   "metadata": {},
   "outputs": [
    {
     "name": "stdout",
     "output_type": "stream",
     "text": [
      "dict_values([3, 5, 4, 5, 2, 5, 1, 1, 1, 5, 2, 1, 1, 1, 8, 5, 1, 4, 1, 1, 4, 1, 1, 1, 1, 2, 1, 1, 1, 1, 1, 5, 1, 1, 1, 1, 1, 2, 1, 1, 1, 1, 1, 1, 1, 1, 1, 1, 1, 2, 1, 1, 1, 1, 1, 1, 1, 1, 1, 1, 1, 1])\n"
     ]
    }
   ],
   "source": [
    "print(contador.values())"
   ]
  },
  {
   "cell_type": "code",
   "execution_count": 30,
   "metadata": {},
   "outputs": [
    {
     "name": "stdout",
     "output_type": "stream",
     "text": [
      "dict_items([('eu', 3), ('te', 5), ('amo', 4), ('porque', 5), ('amo.', 2), ('não', 5), ('precisas', 1), ('ser', 1), ('amante,', 1), ('e', 5), ('nem', 2), ('sempre', 1), ('sabes', 1), ('sê-lo.', 1), ('amor', 8), ('é', 5), ('estado', 1), ('de', 4), ('graça', 1), ('com', 1), ('se', 4), ('paga.', 1), ('dado', 1), ('graça,', 1), ('semeado', 1), ('no', 2), ('vento,', 1), ('na', 1), ('cachoeira,', 1), ('eclipse.', 1), ('foge', 1), ('a', 5), ('dicionários', 1), ('regulamentos', 1), ('vários.', 1), ('bastante', 1), ('ou', 1), ('mais', 2), ('mim.', 1), ('troca,', 1), ('conjuga', 1), ('ama.', 1), ('nada,', 1), ('feliz', 1), ('forte', 1), ('em', 1), ('si', 1), ('mesmo.', 1), ('primo', 1), ('da', 2), ('morte,', 1), ('morte', 1), ('vencedor,', 1), ('por', 1), ('que', 1), ('o', 1), ('matem', 1), ('(e', 1), ('matam)', 1), ('cada', 1), ('instante', 1), ('amor.', 1)])\n"
     ]
    }
   ],
   "source": [
    "print(contador.items())"
   ]
  },
  {
   "cell_type": "code",
   "execution_count": 35,
   "metadata": {},
   "outputs": [
    {
     "name": "stdout",
     "output_type": "stream",
     "text": [
      "[('amor', 8), ('te', 5), ('porque', 5), ('não', 5), ('e', 5), ('é', 5), ('a', 5), ('amo', 4), ('de', 4), ('se', 4)]\n"
     ]
    }
   ],
   "source": [
    "print(contador.most_common(10))"
   ]
  },
  {
   "cell_type": "code",
   "execution_count": 53,
   "metadata": {},
   "outputs": [
    {
     "name": "stdout",
     "output_type": "stream",
     "text": [
      "Counter({'amor': 8, 'te': 5, 'porque': 5, 'não': 5, 'e': 5, 'é': 5, 'a': 5, 'amo': 4, 'de': 4, 'se': 4, 'eu': 3, 'amo.': 2, 'nem': 2, 'no': 2, 'mais': 2, 'da': 2, 'precisas': 1, 'ser': 1, 'amante,': 1, 'sempre': 1, 'sabes': 1, 'sê-lo.': 1, 'estado': 1, 'graça': 1, 'com': 1, 'paga.': 1, 'dado': 1, 'graça,': 1, 'semeado': 1, 'vento,': 1, 'na': 1, 'cachoeira,': 1, 'eclipse.': 1, 'foge': 1, 'dicionários': 1, 'regulamentos': 1, 'vários.': 1, 'bastante': 1, 'ou': 1, 'mim.': 1, 'troca,': 1, 'conjuga': 1, 'ama.': 1, 'nada,': 1, 'feliz': 1, 'forte': 1, 'em': 1, 'si': 1, 'mesmo.': 1, 'primo': 1, 'morte,': 1, 'morte': 1, 'vencedor,': 1, 'por': 1, 'que': 1, 'o': 1, 'matem': 1, '(e': 1, 'matam)': 1, 'cada': 1, 'instante': 1, 'amor.': 1})\n"
     ]
    }
   ],
   "source": [
    "print(contador)"
   ]
  },
  {
   "cell_type": "markdown",
   "metadata": {},
   "source": [
    "# <font color='cyan'>Collections - Counter</font>\n",
    "Recebe um interável como argumento e retorna um objeto do tipo <font color='brown'><i>collections counter</font>, e contendo as contagens de cada elemento interável. "
   ]
  },
  {
   "cell_type": "code",
   "execution_count": null,
   "metadata": {},
   "outputs": [],
   "source": []
  },
  {
   "cell_type": "code",
   "execution_count": null,
   "metadata": {},
   "outputs": [],
   "source": []
  },
  {
   "cell_type": "code",
   "execution_count": null,
   "metadata": {},
   "outputs": [],
   "source": []
  },
  {
<<<<<<< HEAD
   "cell_type": "markdown",
   "metadata": {},
   "source": [
    "## <font color='cyan'>Collections - Default Dict</font>"
   ]
  },
  {
   "cell_type": "code",
   "execution_count": 32,
   "metadata": {},
   "outputs": [],
   "source": [
    "from collections import defaultdict\n",
    "\n",
    "dados = defaultdict(int)"
   ]
=======
   "cell_type": "code",
   "execution_count": null,
   "metadata": {},
   "outputs": [],
   "source": []
>>>>>>> 107f083 (collections_deque)
  },
  {
   "cell_type": "code",
   "execution_count": 33,
   "metadata": {},
   "outputs": [],
   "source": [
    "texto = 'Vinicius Vinicius Vinicius Rocha Lima Lima'"
   ]
  },
  {
   "cell_type": "code",
   "execution_count": 35,
   "metadata": {},
   "outputs": [],
   "source": [
    "for i in texto.lower() .split():\n",
    "    dados[i] += 1"
   ]
  },
  {
   "cell_type": "code",
   "execution_count": 37,
   "metadata": {},
   "outputs": [
    {
     "name": "stdout",
     "output_type": "stream",
     "text": [
      "defaultdict(<class 'int'>, {'vinicius': 3, 'rocha': 1, 'lima': 2})\n"
     ]
    }
   ],
   "source": [
    "print(dados)"
   ]
  },
  {
   "cell_type": "code",
   "execution_count": 61,
   "metadata": {},
   "outputs": [],
   "source": [
    "from collections import defaultdict\n",
    "\n",
    "dados =  defaultdict(int)"
   ]
  },
  {
   "cell_type": "code",
   "execution_count": 68,
   "metadata": {},
   "outputs": [],
   "source": [
    "texto = \"\"\" Eu te amo porque te amo.\n",
    "Não precisas ser amante,\n",
    "e nem sempre sabes sê-lo.\n",
    "Eu te amo porque te amo.\n",
    "Amor é estado de graça\n",
    "e com amor não se paga.\n",
    "\n",
    "Amor é dado de graça,\n",
    "é semeado no vento,\n",
    "na cachoeira, no eclipse.\n",
    "Amor foge a dicionários\n",
    "e a regulamentos vários.\n",
    "\n",
    "Eu te amo porque não amo\n",
    "bastante ou de mais a mim.\n",
    "Porque amor não se troca,\n",
    "não se conjuga nem se ama.\n",
    "Porque amor é amor a nada,\n",
    "feliz e forte em si mesmo.\n",
    "\n",
    "Amor é primo da morte,\n",
    "e da morte vencedor,\n",
    "por mais que o matem (e matam)\n",
    "a cada instante de amor.\"\"\""
   ]
  },
  {
   "cell_type": "code",
   "execution_count": 69,
   "metadata": {},
   "outputs": [],
   "source": [
    "for i in texto.lower().split():\n",
    "    dados[i] += 1"
   ]
  },
  {
   "cell_type": "code",
   "execution_count": 70,
   "metadata": {},
   "outputs": [
    {
     "name": "stdout",
     "output_type": "stream",
     "text": [
      "defaultdict(<class 'int'>, {'vinicius': 2, 'rocha': 2, 'alves': 2, 'eu': 3, 'te': 5, 'amo': 4, 'porque': 5, 'amo.': 2, 'não': 5, 'precisas': 1, 'ser': 1, 'amante,': 1, 'e': 5, 'nem': 2, 'sempre': 1, 'sabes': 1, 'sê-lo.': 1, 'amor': 8, 'é': 5, 'estado': 1, 'de': 4, 'graça': 1, 'com': 1, 'se': 4, 'paga.': 1, 'dado': 1, 'graça,': 1, 'semeado': 1, 'no': 2, 'vento,': 1, 'na': 1, 'cachoeira,': 1, 'eclipse.': 1, 'foge': 1, 'a': 5, 'dicionários': 1, 'regulamentos': 1, 'vários.': 1, 'bastante': 1, 'ou': 1, 'mais': 2, 'mim.': 1, 'troca,': 1, 'conjuga': 1, 'ama.': 1, 'nada,': 1, 'feliz': 1, 'forte': 1, 'em': 1, 'si': 1, 'mesmo.': 1, 'primo': 1, 'da': 2, 'morte,': 1, 'morte': 1, 'vencedor,': 1, 'por': 1, 'que': 1, 'o': 1, 'matem': 1, '(e': 1, 'matam)': 1, 'cada': 1, 'instante': 1, 'amor.': 1})\n"
     ]
    }
   ],
   "source": [
    "dados"
   ]
  },
  {
   "cell_type": "markdown",
   "metadata": {},
   "source": [
<<<<<<< HEAD
    "# <font color='cyan'>Collections - Ordered Dict </font>\n"
=======
    "# <font color='cyan'>Collections - Deque</font>\n",
    "\n",
    "<font color='cyan'>Deque</font> significa <font color='cyan'>Doubly Ended Quere</font> e pode substituir as <font color='cyan'>listas</font> em situações nas quais necessitamos realizar muitas operações de inseção <font color='cyan'>(append())</font>  e deleção <font color='cyan'>(pop())</font>  dos dois lados do container. O Deque foi introduzido ao módulo <font color='cyan'>Collections</font> na versão 2.4 da linguagem. "
>>>>>>> 107f083 (collections_deque)
   ]
  },
  {
   "cell_type": "code",
<<<<<<< HEAD
   "execution_count": 40,
   "metadata": {},
   "outputs": [
    {
     "data": {
      "text/plain": [
       "True"
      ]
     },
     "execution_count": 40,
     "metadata": {},
     "output_type": "execute_result"
    }
   ],
   "source": [
    "from collections import OrderedDict\n",
    "\n",
    "dict_a = {'a': 1, 'b': 2}\n",
    "dict_b = {'b': 2, 'a': 1}\n",
    "\n",
    "dict_a == dict_b"
   ]
  },
  {
   "cell_type": "code",
   "execution_count": 42,
   "metadata": {},
   "outputs": [
    {
     "data": {
      "text/plain": [
       "False"
      ]
     },
     "execution_count": 42,
     "metadata": {},
     "output_type": "execute_result"
    }
   ],
   "source": [
    "odict_a = OrderedDict ({'a': 1, 'b': 2})\n",
    "odict_b = OrderedDict ({'b': 2, 'a': 1})\n",
    "\n",
    "odict_a == odict_b"
   ]
  },
  {
   "cell_type": "code",
   "execution_count": 43,
   "metadata": {},
   "outputs": [
    {
     "data": {
      "text/plain": [
       "True"
      ]
     },
     "execution_count": 43,
     "metadata": {},
     "output_type": "execute_result"
    }
   ],
   "source": [
    "odict_a = OrderedDict ({'a': 1, 'b': 2})\n",
    "odict_b = OrderedDict ({'a': 1, 'b': 2})\n",
    "\n",
    "odict_a == odict_b"
   ]
  },
  {
   "cell_type": "markdown",
   "metadata": {},
   "source": [
    "# <font color='cyan'>Collections - Named Tuple </font>\n",
    "\n",
    "O <font color='brown'><i>Named Tuple</font> é um tipo de coleção que nos permite criar tuplas nas quais seus elementos podem ter um nome."
   ]
  },
  {
   "cell_type": "code",
   "execution_count": 1,
   "metadata": {},
   "outputs": [],
   "source": [
    "from collections import namedtuple\n",
    "\n",
    "Pessoa = namedtuple('Pessoa', ['nome', 'idade', 'peso'])"
=======
   "execution_count": 5,
   "metadata": {},
   "outputs": [],
   "source": [
    "from collections import deque\n",
    "\n",
    "lista = [1, 2, 3, 4, 5]\n",
    "lista_deque = deque([1, 2, 3, 4, 5])"
>>>>>>> 107f083 (collections_deque)
   ]
  },
  {
   "cell_type": "code",
<<<<<<< HEAD
   "execution_count": 2,
   "metadata": {},
   "outputs": [],
   "source": [
    "maria = Pessoa('Maria Jose', 27, 65)\n",
    "jose = Pessoa('Jose Maria', 35, 85)"
=======
   "execution_count": 7,
   "metadata": {},
   "outputs": [
    {
     "data": {
      "text/plain": [
       "1"
      ]
     },
     "execution_count": 7,
     "metadata": {},
     "output_type": "execute_result"
    }
   ],
   "source": [
    "lista_deque.popleft()"
>>>>>>> 107f083 (collections_deque)
   ]
  },
  {
   "cell_type": "code",
   "execution_count": 8,
   "metadata": {},
   "outputs": [
    {
<<<<<<< HEAD
     "name": "stdout",
     "output_type": "stream",
     "text": [
      "Pessoa(nome='Maria Jose', idade=27, peso=65)\n",
      "Pessoa(nome='Jose Maria', idade=35, peso=85)\n",
      "27\n",
      "85\n"
     ]
    }
   ],
   "source": [
    "print(maria)\n",
    "print(jose )\n",
    "\n",
    "print(maria.idade)\n",
    "print(jose.peso)\n"
=======
     "data": {
      "text/plain": [
       "deque([2, 3, 4, 5])"
      ]
     },
     "execution_count": 8,
     "metadata": {},
     "output_type": "execute_result"
    }
   ],
   "source": [
    "lista_deque"
>>>>>>> 107f083 (collections_deque)
   ]
  },
  {
   "cell_type": "code",
   "execution_count": 9,
   "metadata": {},
<<<<<<< HEAD
   "outputs": [
    {
     "name": "stdout",
     "output_type": "stream",
     "text": [
      "Nome: Jose Maria, idade: 35 e peso: 85\n",
      "Nome: Maria Jose, idade: 27 e peso: 65\n"
     ]
    }
   ],
   "source": [
    "for pessoa in [jose, maria]:\n",
    "    print(f'Nome: {pessoa.nome}, idade: {pessoa.idade} e peso: {pessoa.peso}')"
=======
   "outputs": [],
   "source": [
    "lista.extend([10, 11])"
   ]
  },
  {
   "cell_type": "code",
   "execution_count": 10,
   "metadata": {},
   "outputs": [
    {
     "data": {
      "text/plain": [
       "[1, 2, 3, 4, 5, 10, 11]"
      ]
     },
     "execution_count": 10,
     "metadata": {},
     "output_type": "execute_result"
    }
   ],
   "source": [
    "lista"
   ]
  },
  {
   "cell_type": "code",
   "execution_count": 11,
   "metadata": {},
   "outputs": [],
   "source": [
    "lista_deque.extendleft([10, 11])"
   ]
  },
  {
   "cell_type": "code",
   "execution_count": 12,
   "metadata": {},
   "outputs": [
    {
     "data": {
      "text/plain": [
       "deque([11, 10, 2, 3, 4, 5])"
      ]
     },
     "execution_count": 12,
     "metadata": {},
     "output_type": "execute_result"
    }
   ],
   "source": [
    "lista_deque"
   ]
  },
  {
   "cell_type": "code",
   "execution_count": 13,
   "metadata": {},
   "outputs": [],
   "source": [
    "lista_deque.appendleft(20)"
   ]
  },
  {
   "cell_type": "code",
   "execution_count": 14,
   "metadata": {},
   "outputs": [
    {
     "data": {
      "text/plain": [
       "deque([20, 11, 10, 2, 3, 4, 5])"
      ]
     },
     "execution_count": 14,
     "metadata": {},
     "output_type": "execute_result"
    }
   ],
   "source": [
    "lista_deque"
>>>>>>> 107f083 (collections_deque)
   ]
  },
  {
   "cell_type": "markdown",
   "metadata": {},
   "source": []
  }
 ],
 "metadata": {
  "kernelspec": {
   "display_name": "base",
   "language": "python",
   "name": "python3"
  },
  "language_info": {
   "codemirror_mode": {
    "name": "ipython",
    "version": 3
   },
   "file_extension": ".py",
   "mimetype": "text/x-python",
   "name": "python",
   "nbconvert_exporter": "python",
   "pygments_lexer": "ipython3",
   "version": "3.11.4"
  }
 },
 "nbformat": 4,
 "nbformat_minor": 2
}
