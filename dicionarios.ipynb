{
 "cells": [
  {
   "cell_type": "markdown",
   "metadata": {},
   "source": [
    "# Métodos importatntes\n",
    "ger(), update()"
   ]
  },
  {
   "cell_type": "code",
   "execution_count": 2,
   "metadata": {},
   "outputs": [],
   "source": [
    "# get\n",
    "dados = {'nome': 'Empowerdata', 'liguagem': 'Python', 'Status':True}"
   ]
  },
  {
   "cell_type": "code",
   "execution_count": 8,
   "metadata": {},
   "outputs": [
    {
     "data": {
      "text/plain": [
       "'Empowerdata'"
      ]
     },
     "execution_count": 8,
     "metadata": {},
     "output_type": "execute_result"
    }
   ],
   "source": [
    "dados.get('nome')"
   ]
  },
  {
   "cell_type": "code",
   "execution_count": 9,
   "metadata": {},
   "outputs": [],
   "source": [
    "dados.get('none')"
   ]
  },
  {
   "cell_type": "code",
   "execution_count": 14,
   "metadata": {},
   "outputs": [
    {
     "name": "stdout",
     "output_type": "stream",
     "text": [
      "Nome: Empowerdata\n"
     ]
    }
   ],
   "source": [
    "# exemplo\n",
    "if dados.get('nome'):\n",
    "    print(f\"Nome: {dados['nome']}\")\n"
   ]
  },
  {
   "cell_type": "code",
   "execution_count": 20,
   "metadata": {},
   "outputs": [
    {
     "data": {
      "text/plain": [
       "{'nome': 'Empowerdata',\n",
       " 'liguagem': 'Python',\n",
       " 'status': False,\n",
       " 'login': 'Empowerpython'}"
      ]
     },
     "execution_count": 20,
     "metadata": {},
     "output_type": "execute_result"
    }
   ],
   "source": [
    "# update\n",
    "dados = {'nome': 'Empowerdata', 'liguagem': 'Python', 'status': True}\n",
    "dados2 = {'login': 'Empowerpython','status':False}\n",
    "\n",
    "dados.update(dados2)\n",
    "dados"
   ]
  },
  {
   "cell_type": "markdown",
   "metadata": {},
   "source": [
    "# Iterando em dicionários"
   ]
  },
  {
   "cell_type": "code",
   "execution_count": 27,
   "metadata": {},
   "outputs": [
    {
     "name": "stdout",
     "output_type": "stream",
     "text": [
      "nome Empowerdata\n",
      "ligaugem Python\n",
      "status False\n"
     ]
    }
   ],
   "source": [
    "# chaves --> keys()\n",
    "dados = {'nome': 'Empowerdata', 'ligaugem': 'Python', 'status': False}\n",
    "\n",
    "for chave in dados.keys():\n",
    "    print(chave, dados[chave])\n"
   ]
  },
  {
   "cell_type": "code",
   "execution_count": 32,
   "metadata": {},
   "outputs": [
    {
     "name": "stdout",
     "output_type": "stream",
     "text": [
      "Empowerdata\n",
      "Python\n",
      "True\n"
     ]
    }
   ],
   "source": [
    "# valores --> valores()\n",
    "dados = {'nome':'Empowerdata', 'liguagem':'Python', 'status':True}\n",
    "\n",
    "for valor in dados.values():\n",
    "    print(valor)"
   ]
  },
  {
   "cell_type": "code",
   "execution_count": 36,
   "metadata": {},
   "outputs": [
    {
     "name": "stdout",
     "output_type": "stream",
     "text": [
      "dict_items([('nome', 'Empowerdata'), ('liguagem', 'Python'), ('status', True)])\n",
      "nome Empowerdata\n",
      "liguagem Python\n",
      "status True\n"
     ]
    }
   ],
   "source": [
    "# items --> ()\n",
    "dados = {'nome':'Empowerdata', 'liguagem': 'Python', 'status': True}\n",
    "\n",
    "print(dados.items())\n",
    "\n",
    "for chave, valor in dados.items():\n",
    "    print(chave, valor)\n",
    "    "
   ]
  },
  {
   "cell_type": "markdown",
   "metadata": {},
   "source": [
    "# Trabalhando com dicionários\n",
    "\n",
    "Dado do dicionário abaixo, crie uma função que receba a sigla de um pais e imprima o nome, a sigla e sua capital."
   ]
  },
  {
   "cell_type": "code",
   "execution_count": 51,
   "metadata": {},
   "outputs": [],
   "source": [
    "paises = {\n",
    "    'sigla': ['BRA', 'EUA', 'JPN', 'CHN'],\n",
    "    'nome': ['Brasil', 'Estados Unidos', 'Japão', 'china'],\n",
    "    'capital': ['Brasilia', 'Washington', 'Tokyo', 'Pequim']\n",
    "}"
   ]
  },
  {
   "cell_type": "code",
   "execution_count": 71,
   "metadata": {},
   "outputs": [],
   "source": [
    "def info_paises(sigla):\n",
    "\n",
    "    if sigla in paises['sigla']:\n",
    "        indice = paises['sigla'].index(sigla)\n",
    "        nome = paises['nome'][indice]\n",
    "        capital = paises['capital'][indice]\n",
    "\n",
    "        print(f'A sigla do {nome} é {sigla} e sua capital é {capital}!')\n",
    "    else:\n",
    "        print(f'Nenhuma informação encontrada sobre a sigla {sigla}!')    \n"
   ]
  },
  {
   "cell_type": "code",
   "execution_count": 73,
   "metadata": {},
   "outputs": [
    {
     "name": "stdout",
     "output_type": "stream",
     "text": [
      "A sigla do Estados Unidos é EUA e sua capital é Washington!\n"
     ]
    }
   ],
   "source": [
    "info_paises('EUA')"
   ]
  },
  {
   "cell_type": "code",
   "execution_count": null,
   "metadata": {},
   "outputs": [],
   "source": []
  }
 ],
 "metadata": {
  "kernelspec": {
   "display_name": "base",
   "language": "python",
   "name": "python3"
  },
  "language_info": {
   "codemirror_mode": {
    "name": "ipython",
    "version": 3
   },
   "file_extension": ".py",
   "mimetype": "text/x-python",
   "name": "python",
   "nbconvert_exporter": "python",
   "pygments_lexer": "ipython3",
   "version": "3.11.4"
  }
 },
 "nbformat": 4,
 "nbformat_minor": 2
}
