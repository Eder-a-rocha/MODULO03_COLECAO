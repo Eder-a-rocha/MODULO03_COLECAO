{
 "cells": [
  {
   "cell_type": "markdown",
   "metadata": {},
   "source": [
    "# Slicing"
   ]
  },
  {
   "cell_type": "code",
   "execution_count": 6,
   "metadata": {},
   "outputs": [],
   "source": [
    "tupla = ('python', 'c', 'java', 'php', 'visual basic', 'go lang', 'delphi')"
   ]
  },
  {
   "cell_type": "code",
   "execution_count": 7,
   "metadata": {},
   "outputs": [
    {
     "data": {
      "text/plain": [
       "('delphi', 'visual basic', 'java', 'python')"
      ]
     },
     "execution_count": 7,
     "metadata": {},
     "output_type": "execute_result"
    }
   ],
   "source": [
    "tupla[:: -2]"
   ]
  },
  {
   "cell_type": "markdown",
   "metadata": {},
   "source": [
    "# Desempacotamento de tuplas"
   ]
  },
  {
   "cell_type": "code",
   "execution_count": 8,
   "metadata": {},
   "outputs": [],
   "source": [
    "tupla = ('python', 'java', 'javascript')"
   ]
  },
  {
   "cell_type": "code",
   "execution_count": 9,
   "metadata": {},
   "outputs": [],
   "source": [
    "ling_01, ling_02, ling_03 = tupla"
   ]
  },
  {
   "cell_type": "code",
   "execution_count": 10,
   "metadata": {},
   "outputs": [
    {
     "name": "stdout",
     "output_type": "stream",
     "text": [
      "python\n",
      "java\n",
      "javascript\n"
     ]
    }
   ],
   "source": [
    "print(ling_01)\n",
    "print(ling_02)\n",
    "print(ling_03)"
   ]
  },
  {
   "cell_type": "markdown",
   "metadata": {},
   "source": []
  },
  {
   "cell_type": "markdown",
   "metadata": {},
   "source": [
    "# Trabalhando com tuplas"
   ]
  },
  {
   "cell_type": "markdown",
   "metadata": {},
   "source": [
    "Craindo uma função que recebe dois números e retorna o resultado das seguintes operaçãos:\n",
    " - soma\n",
    " - mutiplicação\n",
    " - subtração (se os números forem diferentes, fazer o maior menos o menor)\n",
    " - divisão (se os números forem diferentes, fazer o maior dividido pelo menor)"
   ]
  },
  {
   "cell_type": "code",
   "execution_count": 11,
   "metadata": {},
   "outputs": [],
   "source": [
    "def operacoes(numero_1, numero_2):\n",
    "    soma = numero_1 + numero_2\n",
    "    multiplicacao = numero_1 * numero_2\n",
    "\n",
    "    if numero_1 >= numero_2:\n",
    "        subtracao = numero_1 - numero_2\n",
    "        divisao = numero_1 / numero_2\n",
    "    else:\n",
    "        subtracao = numero_1 - numero_2\n",
    "        divisao = numero_1 / numero_2\n",
    "\n",
    "\n",
    "    return(soma, multiplicacao, subtracao, divisao)"
   ]
  },
  {
   "cell_type": "code",
   "execution_count": 12,
   "metadata": {},
   "outputs": [
    {
     "name": "stdout",
     "output_type": "stream",
     "text": [
      "193\n",
      "5280\n",
      "127\n",
      "4.848484848484849\n"
     ]
    }
   ],
   "source": [
    "soma, multiplicacao, subtracao, divisao = operacoes(160, 33)\n",
    "\n",
    "print(soma)\n",
    "print(multiplicacao)\n",
    "print(subtracao)\n",
    "print(divisao)"
   ]
  },
  {
   "cell_type": "markdown",
   "metadata": {},
   "source": []
  },
  {
   "cell_type": "code",
   "execution_count": null,
   "metadata": {},
   "outputs": [],
   "source": []
  },
  {
   "cell_type": "markdown",
   "metadata": {},
   "source": []
  },
  {
   "cell_type": "markdown",
   "metadata": {},
   "source": []
  }
 ],
 "metadata": {
  "kernelspec": {
   "display_name": "base",
   "language": "python",
   "name": "python3"
  },
  "language_info": {
   "codemirror_mode": {
    "name": "ipython",
    "version": 3
   },
   "file_extension": ".py",
   "mimetype": "text/x-python",
   "name": "python",
   "nbconvert_exporter": "python",
   "pygments_lexer": "ipython3",
   "version": "3.1.0"
  },
  "orig_nbformat": 4
 },
 "nbformat": 4,
 "nbformat_minor": 2
}
